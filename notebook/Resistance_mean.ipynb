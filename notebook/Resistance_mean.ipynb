{
 "cells": [
  {
   "cell_type": "code",
   "execution_count": 1,
   "metadata": {},
   "outputs": [],
   "source": [
    "import os\n",
    "import pandas as pd\n",
    "import sys\n",
    "sys.path.append(\"..\")\n",
    "from config import *"
   ]
  },
  {
   "cell_type": "code",
   "execution_count": 3,
   "metadata": {},
   "outputs": [
    {
     "name": "stdout",
     "output_type": "stream",
     "text": [
      "\n",
      " Min/Max index summary saved as: EDX_min_max_summary.csv\n"
     ]
    }
   ],
   "source": [
    "summary = []\n",
    "\n",
    "for folder in os.listdir(RESISTANCE_RAW):\n",
    "    folder_path = os.path.join(RESISTANCE_RAW, folder)\n",
    "    if not os.path.isdir(folder_path):\n",
    "        continue\n",
    "\n",
    "    edx_file = None\n",
    "    resistance_mean_file = None\n",
    "    base_name = folder.replace(\"00\", \"\", 1)\n",
    "\n",
    "    for file in os.listdir(folder_path):\n",
    "        if file.endswith(\".csv\"):\n",
    "            if \"edx\" in file.lower() and \"similarity\" not in file.lower():\n",
    "                edx_file = os.path.join(folder_path, file)\n",
    "            elif \"resistance_mean\" in file:\n",
    "                resistance_mean_file = os.path.join(folder_path, file)\n",
    "\n",
    "    if edx_file and resistance_mean_file:\n",
    "        try:\n",
    "            edx_df = pd.read_csv(edx_file)\n",
    "            resistance_df = pd.read_csv(resistance_mean_file)\n",
    "\n",
    "            # Drop 'Index' if exists\n",
    "            if 'Index' in edx_df.columns:\n",
    "                edx_df = edx_df.drop(columns=['Index'])\n",
    "\n",
    "            # Keep only numeric columns\n",
    "            edx_df = edx_df.select_dtypes(include='number')\n",
    "\n",
    "            # Normalize EDX values row-wise\n",
    "            edx_normalized = edx_df.div(edx_df.sum(axis=1), axis=0).reset_index(drop=True)\n",
    "\n",
    "            # Extract x, y, R from resistance_mean file\n",
    "            xy_r = resistance_df[['x', 'y', 'R']].copy()\n",
    "            xy_r.rename(columns={'R': 'Resistance'}, inplace=True)\n",
    "            xy_r.reset_index(drop=True, inplace=True)\n",
    "\n",
    "            # Combine all\n",
    "            merged = pd.concat([xy_r, edx_normalized], axis=1)\n",
    "            merged.insert(0, 'ID', range(1, len(merged) + 1))\n",
    "\n",
    "            # Reorder columns\n",
    "            element_cols = edx_normalized.columns.tolist()\n",
    "            final_cols = ['ID', 'x', 'y'] + element_cols + ['Resistance']\n",
    "            merged = merged[final_cols]\n",
    "\n",
    "            # Save file with new name\n",
    "            elements_str = \"-\".join(element_cols)\n",
    "            output_name = f\"{base_name}_{elements_str}_RT.csv\"\n",
    "            output_path = os.path.join(RESISTANCE_CLEANED_FILES, output_name)\n",
    "            merged.to_csv(output_path, index=False)\n",
    "            \n",
    "\n",
    "            # Save min/max element indices\n",
    "            for col in edx_normalized.columns:\n",
    "                summary.append({\n",
    "                    \"Folder\": folder,\n",
    "                    \"Element\": col,\n",
    "                    \"MinIndex\": edx_normalized[col].idxmin(),\n",
    "                    \"MaxIndex\": edx_normalized[col].idxmax()\n",
    "                })\n",
    "\n",
    "        except Exception as e:\n",
    "            print(f\" Error processing {folder}: {e}\")\n",
    "\n",
    "# Save min/max index summary\n",
    "summary_df = pd.DataFrame(summary)\n",
    "summary_df.to_csv(os.path.join(RESISTANCE_RAW, \"EDX_min_max_summary.csv\"), index=False)\n",
    "print(\"\\n Min/Max index summary saved as: EDX_min_max_summary.csv\")"
   ]
  }
 ],
 "metadata": {
  "kernelspec": {
   "display_name": "Python 3",
   "language": "python",
   "name": "python3"
  },
  "language_info": {
   "codemirror_mode": {
    "name": "ipython",
    "version": 3
   },
   "file_extension": ".py",
   "mimetype": "text/x-python",
   "name": "python",
   "nbconvert_exporter": "python",
   "pygments_lexer": "ipython3",
   "version": "3.11.0"
  }
 },
 "nbformat": 4,
 "nbformat_minor": 2
}
