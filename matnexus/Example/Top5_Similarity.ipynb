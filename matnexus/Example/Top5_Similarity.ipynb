{
 "cells": [
  {
   "cell_type": "code",
   "execution_count": 1,
   "id": "4ab6ef3b",
   "metadata": {},
   "outputs": [
    {
     "name": "stdout",
     "output_type": "stream",
     "text": [
      "Installed kernelspec venv in C:\\Users\\doaam\\AppData\\Roaming\\jupyter\\kernels\\venv\n"
     ]
    },
    {
     "name": "stderr",
     "output_type": "stream",
     "text": [
      "[nltk_data] Downloading package punkt_tab to\n",
      "[nltk_data]     C:\\Users\\doaam\\AppData\\Roaming\\nltk_data...\n",
      "[nltk_data]   Package punkt_tab is already up-to-date!\n"
     ]
    },
    {
     "data": {
      "text/plain": [
       "True"
      ]
     },
     "execution_count": 1,
     "metadata": {},
     "output_type": "execute_result"
    }
   ],
   "source": [
    "!python -m ipykernel install --user --name=venv --display-name \"Python (Generic)\"\n",
    "\n",
    "\n",
    "import pandas as pd\n",
    "import sys\n",
    "from pathlib import Path\n",
    "# Add parent directory of the notebook to sys.path\n",
    "project_root = Path().resolve().parent\n",
    "sys.path.insert(0, str(project_root))\n",
    "from MatNexus import PaperCollector, TextProcessor, VecGenerator, VecVisualizer\n",
    "import plotly.io as py\n",
    "from sklearn.metrics.pairwise import cosine_similarity\n",
    "import os\n",
    "import numpy as np\n",
    "import nltk\n",
    "from nltk.tokenize import word_tokenize\n",
    "from gensim.models import Doc2Vec, Word2Vec\n",
    "from gensim.models.doc2vec import TaggedDocument\n",
    "\n",
    "from scipy.spatial.distance import cosine\n",
    "import matplotlib.pyplot as plt\n",
    "from pathlib import Path\n",
    "import re\n",
    "\n",
    "nltk.download('punkt', quiet=True)"
   ]
  },
  {
   "cell_type": "code",
   "execution_count": 2,
   "id": "b855b3c9",
   "metadata": {},
   "outputs": [
    {
     "name": "stdout",
     "output_type": "stream",
     "text": [
      "Word2Vec model saved to HEA_electrocatalyst_iterative.model\n"
     ]
    }
   ],
   "source": [
    "\n",
    "# Word2Vec parameters\n",
    "model_path = \"HEA_electrocatalyst_iterative.model\"  \n",
    "sg = 1           # Skip-gram (1) vs CBOW (0)\n",
    "vector_size = 200  # Dimension of word vectors\n",
    "hs = 1           # Use hierarchical softmax\n",
    "window = 5       # Context window size\n",
    "min_count = 1    # Minimum word frequency\n",
    "workers = 4      # Number of worker threads\n",
    "\n",
    "# Load your **final selected** documents\n",
    "input_path = \"final_selected_docs.csv\"\n",
    "processed_df = pd.read_csv(input_path)\n",
    "\n",
    "# Load the processed DataFrame\n",
    "processed_df = pd.read_csv(input_path)\n",
    "\n",
    "# Generate the corpus from the processed DataFrame\n",
    "corpus = VecGenerator.Corpus(processed_df)\n",
    "sentences = corpus.sentences\n",
    "\n",
    "# Create and train the Word2Vec model\n",
    "vec_generator = VecGenerator.Word2VecModel(sentences)\n",
    "vec_generator.fit()\n",
    "\n",
    "# Save the model to the specified path\n",
    "vec_generator.save(model_path)\n",
    "\n",
    "print(f\"Word2Vec model saved to {model_path}\")\n"
   ]
  },
  {
   "cell_type": "code",
   "execution_count": 3,
   "id": "b40c3f71",
   "metadata": {},
   "outputs": [],
   "source": [
    "def process_all_edx_folders_and_save_csv(base_dir, model_path, summary_output_file=\"Top5_Similarity_Summary.csv\"):\n",
    "    print(f\"[INFO] Loading Word2Vec model from: {model_path}\")\n",
    "    model = VecGenerator.Word2VecModel.load(model_path)\n",
    "    print(\"[INFO] Model loaded successfully.\")\n",
    "\n",
    "    # Load 'resistance' vector once\n",
    "    resistance_vec = VecGenerator.VectorOperations.get_vector(\"resistance\", model)\n",
    "    top5_all = []\n",
    "\n",
    "    for folder in os.listdir(base_dir):\n",
    "        folder_path = os.path.join(base_dir, folder)\n",
    "        if not os.path.isdir(folder_path):\n",
    "            continue\n",
    "        found_file = False\n",
    "\n",
    "        for file in os.listdir(folder_path):\n",
    "            if \"_Similarity\" in file or \"_processed\" in file:\n",
    "                continue\n",
    "\n",
    "            if file.lower().endswith((\".csv\", \".xlsx\")) and \"resistance\" not in file.lower():\n",
    "\n",
    "                found_file = True\n",
    "                file_path = os.path.join(folder_path, file)\n",
    "                try:\n",
    "                    if file.endswith(\".csv\"):\n",
    "                        df = pd.read_csv(file_path)\n",
    "                    else:\n",
    "                        df = pd.read_excel(file_path)\n",
    "                except Exception as e:\n",
    "                    print(f\"[ERROR] Failed to read file: {e}\")\n",
    "                    continue\n",
    "\n",
    "                if df.empty:\n",
    "                    print(\"[WARNING] Empty DataFrame. Skipping.\")\n",
    "                    continue\n",
    "                drop_cols = [\"Index\", \"Spektrum\", \"x\", \"y\", 'Unnamed: 0']\n",
    "                df = df.drop(columns=[col for col in drop_cols if col in df.columns], errors=\"ignore\")\n",
    "                df.reset_index(inplace=True)\n",
    "                if \"Index\" in df.columns:\n",
    "                    df = df.drop(columns=[\"Index\"])\n",
    "\n",
    "                df = df.apply(pd.to_numeric, errors='coerce')\n",
    "                element_columns = df.select_dtypes(include='number').columns.tolist()\n",
    "                element_columns = [col for col in element_columns if col not in [\"index\"]]\n",
    "\n",
    "                df[\"Composition\"] = df[element_columns].apply(\n",
    "                    lambda row: ''.join([f\"{col}{row[col]:.2f}\" for col in element_columns]), axis=1\n",
    "                )\n",
    "                print(df.columns)\n",
    "                print(\"[INFO] Generating composition vectors...\")\n",
    "                try:\n",
    "                    df[\"Composition_Vector\"] = df[\"Composition\"].apply(\n",
    "                        lambda formula: VecGenerator.VectorOperations.generate_material_vector(formula, model)\n",
    "                    )\n",
    "                except Exception as e:\n",
    "                    print(f\"[ERROR] Vector generation failed: {e}\")\n",
    "                    continue\n",
    "\n",
    "                # Directly compute similarity (no need for condition)\n",
    "                df[\"Similarity_to_Resistance\"] = df[\"Composition_Vector\"].apply(\n",
    "                    lambda vec: cosine_similarity([vec], [resistance_vec])[0][0]\n",
    "                )\n",
    "\n",
    "                top5 = df.nlargest(5, \"Similarity_to_Resistance\").copy()\n",
    "                top5[\"SourceFile\"] = file\n",
    "                top5[\"Folder\"] = folder\n",
    "                top5_all.append(top5[[\"index\", \"Composition\", \"Similarity_to_Resistance\", \"SourceFile\", \"Folder\"]])\n",
    "\n",
    "                output_file = os.path.join(folder_path, f\"{os.path.splitext(file)[0]}_Similarity.csv\")\n",
    "                df.drop(columns=[\"Composition_Vector\"], inplace=True)\n",
    "                df.to_csv(output_file, index=False)\n",
    "                \n",
    "\n",
    "        if not found_file:\n",
    "            print(\"[INFO] No EDX file found in this folder.\")\n",
    "\n",
    "    if top5_all:\n",
    "        summary_df = pd.concat(top5_all, ignore_index=True)\n",
    "        summary_path = os.path.join(base_dir, summary_output_file)\n",
    "        summary_df.to_csv(summary_path, index=False)\n",
    "  \n",
    "    else:\n",
    "        print(\"[INFO] No similarity data was calculated to summarize.\")\n"
   ]
  },
  {
   "cell_type": "code",
   "execution_count": 4,
   "id": "086e2cfa",
   "metadata": {},
   "outputs": [
    {
     "name": "stdout",
     "output_type": "stream",
     "text": [
      "[INFO] Loading Word2Vec model from: HEA_electrocatalyst_iterative.model\n",
      "[INFO] Model loaded successfully.\n",
      "Index(['index', 'Ag', 'Au', 'Pd', 'Composition'], dtype='object')\n",
      "[INFO] Generating composition vectors...\n",
      "Index(['index', 'Ag', 'Au', 'Pd', 'Pt', 'Rh', 'Composition'], dtype='object')\n",
      "[INFO] Generating composition vectors...\n",
      "Index(['index', 'Au', 'Pd', 'Pt', 'Rh', 'Composition'], dtype='object')\n",
      "[INFO] Generating composition vectors...\n",
      "Index(['index', 'Au', 'Pd', 'Pt', 'Rh', 'Ru', 'Composition'], dtype='object')\n",
      "[INFO] Generating composition vectors...\n",
      "Index(['index', 'Ru', 'Rh', 'Pd', 'Ir', 'Pt', 'Composition'], dtype='object')\n",
      "[INFO] Generating composition vectors...\n",
      "Index(['index', 'Au', 'Cu', 'Pd', 'Pt', 'Composition'], dtype='object')\n",
      "[INFO] Generating composition vectors...\n",
      "Index(['index', 'Ag', 'Au', 'Pd', 'Pt', 'Composition'], dtype='object')\n",
      "[INFO] Generating composition vectors...\n",
      "Index(['index', 'Ag', 'Au', 'Cu', 'Pd', 'Pt', 'Composition'], dtype='object')\n",
      "[INFO] Generating composition vectors...\n"
     ]
    }
   ],
   "source": [
    "\n",
    "notebook_dir = Path().resolve()\n",
    "base_dir = notebook_dir.parents[1]\n",
    "resistance_raw_path = base_dir / \"data\" / \"raw\" / \"resistance_raw\"\n",
    "\n",
    "process_all_edx_folders_and_save_csv(\n",
    "    base_dir=resistance_raw_path,\n",
    "    model_path=\"HEA_electrocatalyst_iterative.model\",\n",
    ")\n"
   ]
  }
 ],
 "metadata": {
  "kernelspec": {
   "display_name": "Python 3",
   "language": "python",
   "name": "python3"
  },
  "language_info": {
   "codemirror_mode": {
    "name": "ipython",
    "version": 3
   },
   "file_extension": ".py",
   "mimetype": "text/x-python",
   "name": "python",
   "nbconvert_exporter": "python",
   "pygments_lexer": "ipython3",
   "version": "3.11.0"
  }
 },
 "nbformat": 4,
 "nbformat_minor": 5
}
